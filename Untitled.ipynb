{
 "cells": [
  {
   "cell_type": "code",
   "execution_count": 3,
   "id": "e944d713",
   "metadata": {},
   "outputs": [
    {
     "name": "stdout",
     "output_type": "stream",
     "text": [
      "11 5 16\n"
     ]
    }
   ],
   "source": [
    "b = \"My name is Conan.\"\n",
    "x_max, y_max, z_max = len(b), len(b), len(b)\n",
    "\n",
    "for x in range(x_max):\n",
    "    for y in range(y_max):\n",
    "        for z in range(z_max):\n",
    "            a = \"Hello, world!\"\n",
    "            b = \"My name is Conan.\"\n",
    "            c = \"Who are you?\"\n",
    "            mystery_name = b[x] + b[-3] + b[5] + a[-2] + a[1] + b[-2]\n",
    "            mystery_message = a[y:8] + c[1:4] + b[8:z] + c[-1]\n",
    "            answer = mystery_name + mystery_message\n",
    "            if answer == \"Camden, who is Conan?\":\n",
    "                print(x, y, z)\n"
   ]
  },
  {
   "cell_type": "code",
   "execution_count": 4,
   "id": "90f9542c",
   "metadata": {},
   "outputs": [
    {
     "name": "stdout",
     "output_type": "stream",
     "text": [
      "Camden, who is Conan?\n"
     ]
    }
   ],
   "source": [
    "x, y, z = 11,5,16\n",
    "\n",
    "a = \"Hello, world!\"\n",
    "b = \"My name is Conan.\"\n",
    "c = \"Who are you?\"\n",
    "mystery_name = b[x] + b[-3] + b[5] + a[-2] + a[1] + b[-2]\n",
    "mystery_message = a[y:8] + c[1:4] + b[8:z] + c[-1] \n",
    "answer = mystery_name + mystery_message\n",
    "print(answer)"
   ]
  },
  {
   "cell_type": "code",
   "execution_count": 5,
   "id": "8e47f891",
   "metadata": {},
   "outputs": [
    {
     "data": {
      "text/plain": [
       "15"
      ]
     },
     "execution_count": 5,
     "metadata": {},
     "output_type": "execute_result"
    }
   ],
   "source": [
    "len(mystery_message)"
   ]
  },
  {
   "cell_type": "code",
   "execution_count": 8,
   "id": "81aab36b",
   "metadata": {},
   "outputs": [
    {
     "name": "stdout",
     "output_type": "stream",
     "text": [
      "9\n",
      "25\n",
      "49\n"
     ]
    }
   ],
   "source": [
    "start, stop, step = 3, 8, 2\n",
    "number = 0\n",
    "for k in range (start, stop, step) :\n",
    "    number = k**2\n",
    "    print(number)"
   ]
  },
  {
   "cell_type": "code",
   "execution_count": null,
   "id": "d7ccb4b2",
   "metadata": {},
   "outputs": [],
   "source": []
  }
 ],
 "metadata": {
  "kernelspec": {
   "display_name": "Python 3 (ipykernel)",
   "language": "python",
   "name": "python3"
  },
  "language_info": {
   "codemirror_mode": {
    "name": "ipython",
    "version": 3
   },
   "file_extension": ".py",
   "mimetype": "text/x-python",
   "name": "python",
   "nbconvert_exporter": "python",
   "pygments_lexer": "ipython3",
   "version": "3.11.3"
  }
 },
 "nbformat": 4,
 "nbformat_minor": 5
}
