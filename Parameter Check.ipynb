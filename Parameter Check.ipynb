{
 "cells": [
  {
   "cell_type": "code",
   "execution_count": 63,
   "id": "a4f6f300",
   "metadata": {},
   "outputs": [],
   "source": [
    "import torch\n",
    "import numpy as np"
   ]
  },
  {
   "cell_type": "code",
   "execution_count": 119,
   "id": "f78392b3",
   "metadata": {},
   "outputs": [
    {
     "name": "stderr",
     "output_type": "stream",
     "text": [
      "Using cache found in /Users/sathya/.cache/torch/hub/pytorch_vision_v0.10.0\n"
     ]
    }
   ],
   "source": [
    "\n",
    "\n",
    "model  = torch.hub.load('pytorch/vision:v0.10.0', 'resnet18', pretrained=False)\n",
    "# model = torch.hub.load('pytorch/vision:v0.10.0', 'mobilenet_v2', pretrained=False)\n",
    "# model = torch.hub.load('pytorch/vision:v0.10.0', 'densenet121', pretrained=False)\n"
   ]
  },
  {
   "cell_type": "code",
   "execution_count": 120,
   "id": "8050b282",
   "metadata": {},
   "outputs": [],
   "source": [
    "name_list = []\n",
    "\n",
    "for name, module in model.named_parameters():\n",
    "    name_list.append(\"model.\"+name)\n",
    "\n",
    "name_list = np.asarray(name_list)"
   ]
  },
  {
   "cell_type": "code",
   "execution_count": 121,
   "id": "b9541f84",
   "metadata": {},
   "outputs": [
    {
     "data": {
      "text/plain": [
       "array(['model.conv1.weight', 'model.bn1.weight', 'model.bn1.bias',\n",
       "       'model.layer1.0.conv1.weight', 'model.layer1.0.bn1.weight',\n",
       "       'model.layer1.0.bn1.bias', 'model.layer1.0.conv2.weight',\n",
       "       'model.layer1.0.bn2.weight', 'model.layer1.0.bn2.bias',\n",
       "       'model.layer1.1.conv1.weight', 'model.layer1.1.bn1.weight',\n",
       "       'model.layer1.1.bn1.bias', 'model.layer1.1.conv2.weight',\n",
       "       'model.layer1.1.bn2.weight', 'model.layer1.1.bn2.bias',\n",
       "       'model.layer2.0.conv1.weight', 'model.layer2.0.bn1.weight',\n",
       "       'model.layer2.0.bn1.bias', 'model.layer2.0.conv2.weight',\n",
       "       'model.layer2.0.bn2.weight', 'model.layer2.0.bn2.bias',\n",
       "       'model.layer2.0.downsample.0.weight',\n",
       "       'model.layer2.0.downsample.1.weight',\n",
       "       'model.layer2.0.downsample.1.bias', 'model.layer2.1.conv1.weight',\n",
       "       'model.layer2.1.bn1.weight', 'model.layer2.1.bn1.bias',\n",
       "       'model.layer2.1.conv2.weight', 'model.layer2.1.bn2.weight',\n",
       "       'model.layer2.1.bn2.bias', 'model.layer3.0.conv1.weight',\n",
       "       'model.layer3.0.bn1.weight', 'model.layer3.0.bn1.bias',\n",
       "       'model.layer3.0.conv2.weight', 'model.layer3.0.bn2.weight',\n",
       "       'model.layer3.0.bn2.bias', 'model.layer3.0.downsample.0.weight',\n",
       "       'model.layer3.0.downsample.1.weight',\n",
       "       'model.layer3.0.downsample.1.bias', 'model.layer3.1.conv1.weight',\n",
       "       'model.layer3.1.bn1.weight', 'model.layer3.1.bn1.bias',\n",
       "       'model.layer3.1.conv2.weight', 'model.layer3.1.bn2.weight',\n",
       "       'model.layer3.1.bn2.bias', 'model.layer4.0.conv1.weight',\n",
       "       'model.layer4.0.bn1.weight', 'model.layer4.0.bn1.bias',\n",
       "       'model.layer4.0.conv2.weight', 'model.layer4.0.bn2.weight',\n",
       "       'model.layer4.0.bn2.bias', 'model.layer4.0.downsample.0.weight',\n",
       "       'model.layer4.0.downsample.1.weight',\n",
       "       'model.layer4.0.downsample.1.bias', 'model.layer4.1.conv1.weight',\n",
       "       'model.layer4.1.bn1.weight', 'model.layer4.1.bn1.bias',\n",
       "       'model.layer4.1.conv2.weight', 'model.layer4.1.bn2.weight',\n",
       "       'model.layer4.1.bn2.bias', 'model.fc.weight', 'model.fc.bias'],\n",
       "      dtype='<U34')"
      ]
     },
     "execution_count": 121,
     "metadata": {},
     "output_type": "execute_result"
    }
   ],
   "source": [
    "name_list"
   ]
  },
  {
   "cell_type": "code",
   "execution_count": 122,
   "id": "9d38afdc",
   "metadata": {},
   "outputs": [],
   "source": [
    "random_picks = np.random.randint(0, len(name_list),10)\n",
    "test_name_list = name_list[random_picks]"
   ]
  },
  {
   "cell_type": "code",
   "execution_count": 125,
   "id": "2e9cc21e",
   "metadata": {},
   "outputs": [
    {
     "name": "stdout",
     "output_type": "stream",
     "text": [
      "model.layer3.0.bn2.bias\n",
      "True\n"
     ]
    }
   ],
   "source": [
    "eval_hit = False\n",
    "for layer in test_name_list:\n",
    "    try:\n",
    "        print(layer)\n",
    "        eval(layer)\n",
    "        \n",
    "    except:\n",
    "        eval_hit =True\n",
    "        break\n",
    "print(eval_hit)\n",
    "#Fix Strings"
   ]
  }
 ],
 "metadata": {
  "kernelspec": {
   "display_name": "Python 3 (ipykernel)",
   "language": "python",
   "name": "python3"
  },
  "language_info": {
   "codemirror_mode": {
    "name": "ipython",
    "version": 3
   },
   "file_extension": ".py",
   "mimetype": "text/x-python",
   "name": "python",
   "nbconvert_exporter": "python",
   "pygments_lexer": "ipython3",
   "version": "3.11.3"
  }
 },
 "nbformat": 4,
 "nbformat_minor": 5
}
